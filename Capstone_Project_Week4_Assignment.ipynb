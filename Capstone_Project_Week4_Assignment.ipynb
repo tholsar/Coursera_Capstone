{
 "cells": [
  {
   "cell_type": "markdown",
   "metadata": {},
   "source": [
    "# Introduction"
   ]
  },
  {
   "cell_type": "markdown",
   "metadata": {},
   "source": [
    " This project aims to help to identify the highly demanding business in the New York City in all its Boroughs. It will provide the insight of each Borough with number of venue category in each neighborhood. There is no doubt that anybody can success in own business if she/he choose the correct business and appropriate location where it is having high demand. Say for example, if we start a stationary store near to a college or school will have more demand rather starting it near to mall. Own business has its own merits like more freedom and independence working for yourself. It gives more satisfaction by creating employment and contributing to the country’s development. Most of the successful persons are having their own business. In order to identify the demanding business and location we have decided to use Data Science and Machine Learning algorithm because we both are thriving software developers learning new technologies and experiment it in our day to day life.\n",
    "\n",
    "### Business Problem\n",
    "#### Identify the demanding business and location to start a new business in New York City. \n",
    "New York city is the most populous city in the United States. The City is also the most densely populated major city in the United States. New York City has been described as the cultural, financial, and media capital of the world, significantly influencing commerce, entertainment, research, technology, education, politics, tourism, art, fashion, and sports. As the population is high in this city, if we start a demanding business in the correct place, it will be more profitable.\n",
    "\n",
    "New York City comprises of 5 boroughs.\n",
    "We have to do the segmenting and clustering of neighborhood venues in each borough and analyze the more number of business category available in the borough to give recommendation for anybody who is willing to start new business in New York City.\n"
   ]
  },
  {
   "cell_type": "markdown",
   "metadata": {},
   "source": [
    "# Data"
   ]
  },
  {
   "cell_type": "markdown",
   "metadata": {},
   "source": [
    "This project will use \"K-means clustering\" which is a centroid based unsupervised machine learning algorithm for Segmentation and Clustering the neighborhood. To identify the neighborhood venues, \"Borough and Venues\" data with latitude and longitude are required. The add are extracted from the below sources.\n",
    "\n",
    "\n",
    "1. New York Borough Data is available https://cocl.us/new_york_dataset (Borough Dataset)\n",
    "2. Venue Details can be retrieved from http://foursquare.com/. (Location Dataset)\n",
    "\n",
    "The Borough Dataset is in the form of Json file.  The model requires the features\n",
    "1. Borough\n",
    "2. Neighborhood\n",
    "3. Latitude\n",
    "4. Longitude \n",
    "\n",
    "The above featrues will be extracted from the json file and converted into Pandas dataframe for understanding each Borough and its Neighborhoods. Pandas is a Python library used for data manipulation and analysis.  The borough data are available under features key in the json file. \n",
    "Foursqure.com is a location data provider. The location dataset can be retrieved using RESTful API calls to FourSquare, which requires \n",
    "\n",
    "1. Client_Id\n",
    "2. Client_Secret\n",
    "3. version_id. \n",
    "\n",
    "The Client_Id and Client_Secrets can be obtained by registering in the Foursquare.com site as developer. The location dataset also is in Json format. Using Python request library, the data can be downloaded, and by using json_normalize library the Json data can be converted into Pandas dataframe. \n",
    "Exploratory data analysis will be done to understand the data structure, purity and size. The model requires neighborhood venues, venue type, categories and venues geocode.\n",
    "One hot encoding will be used to convert the categorical data into numerical data. Many machine learning algorithms cannot work with categorical data directly. The categories must be converted into numbers.\n",
    "The data will be visualized using Folium map to get a better understanding of the Borough’s Neighborhood and Venues in each Neighborhood.\n"
   ]
  },
  {
   "cell_type": "code",
   "execution_count": null,
   "metadata": {},
   "outputs": [],
   "source": []
  }
 ],
 "metadata": {
  "kernelspec": {
   "display_name": "Python",
   "language": "python",
   "name": "conda-env-python-py"
  },
  "language_info": {
   "codemirror_mode": {
    "name": "ipython",
    "version": 3
   },
   "file_extension": ".py",
   "mimetype": "text/x-python",
   "name": "python",
   "nbconvert_exporter": "python",
   "pygments_lexer": "ipython3",
   "version": "3.6.11"
  }
 },
 "nbformat": 4,
 "nbformat_minor": 4
}
